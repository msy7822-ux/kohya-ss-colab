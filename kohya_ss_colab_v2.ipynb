{
  "cells": [
    {
      "cell_type": "markdown",
      "metadata": {
        "id": "view-in-github",
        "colab_type": "text"
      },
      "source": [
        "<a href=\"https://colab.research.google.com/github/msy7822-ux/kohya-ss-colab/blob/main/kohya_ss_colab_v2.ipynb\" target=\"_parent\"><img src=\"https://colab.research.google.com/assets/colab-badge.svg\" alt=\"Open In Colab\"/></a>"
      ]
    },
    {
      "cell_type": "code",
      "source": [
        "# @title Drive Connection\n",
        "%cd /content\n",
        "\n",
        "from google.colab import drive\n",
        "drive.mount('/content/drive')"
      ],
      "metadata": {
        "id": "aRz6hC93hl2L",
        "colab": {
          "base_uri": "https://localhost:8080/"
        },
        "outputId": "cbd23b60-8f05-4e02-fe43-36e81369826c"
      },
      "execution_count": null,
      "outputs": [
        {
          "output_type": "stream",
          "name": "stdout",
          "text": [
            "/content\n",
            "Mounted at /content/drive\n"
          ]
        }
      ]
    },
    {
      "cell_type": "code",
      "source": [
        "# @title Install Dependencies\n",
        "!pip install dadaptation==3.1 diffusers[torch]==0.17.1 easygui==0.98.3 einops==0.6.0 fairscale==0.4.13 ftfy==6.1.1 gradio==3.36.1 huggingface-hub==0.14.1\n",
        "!pip install lion-pytorch==0.0.6 lycoris_lora==1.8.0.dev6 open-clip-torch==2.20.0 prodigyopt==1.0 pytorch-lightning==1.9.0 safetensors==0.3.1 timm==0.6.12\n",
        "!pip install tk==0.1.0 transformers==4.30.2 voluptuous==0.13.1 wandb==0.15.0 xformers==0.0.20 omegaconf\n",
        "!pip install torch==2.0.1 torchvision\n",
        "\n",
        "!pip install --upgrade jax jaxlib\n",
        "!pip install --upgrade diffusers\n",
        "\n",
        "!pip install bitsandbytes\n",
        "\n"
      ],
      "metadata": {
        "id": "NCowdlSvhnQr"
      },
      "execution_count": null,
      "outputs": []
    },
    {
      "cell_type": "code",
      "source": [
        "!python -m bitsandbytes"
      ],
      "metadata": {
        "id": "LISetHE95aB9"
      },
      "execution_count": null,
      "outputs": []
    },
    {
      "cell_type": "code",
      "source": [
        "# @title GitHub Repository Clone\n",
        "%cd /content/drive/MyDrive/\n",
        "!git clone -b 0.41.0 https://github.com/TimDettmers/bitsandbytes\n",
        "%cd /content/drive/MyDrive/bitsandbytes\n",
        "!git pull origin main\n",
        "# !python setup.py install\n",
        "!pip install -r requirements-dev.txt\n",
        "!cmake -DCOMPUTE_BACKEND=cuda -S .\n",
        "# !make\n",
        "!CUDA_VERSION=118 make cuda11x\n",
        "!pip install .\n",
        "\n",
        "\n",
        "\n",
        "# %cd /content/drive/MyDrive/\n",
        "# !git clone -b v1.0 https://github.com/camenduru/kohya_ss\n",
        "# %cd /content/drive/MyDrive/kohya_ss\n",
        "# !git pull origin master\n",
        "# !pip install -r requirements.txt"
      ],
      "metadata": {
        "id": "M3ZKP_r5hq5g",
        "cellView": "form"
      },
      "execution_count": null,
      "outputs": []
    },
    {
      "cell_type": "code",
      "source": [
        "# @title Model Downloads\n",
        "%cd /content/drive/MyDrive/kohya_ss/\n",
        "\n",
        "!wget -c \"https://civitai.com/api/download/models/95489?type=Model&format=SafeTensor&size=full&fp=fp16&token=d3213e79a69ab67e3cf3299ce0933ef1\" -O ./models/lora/anyLoRA_checkpoint.safetensors"
      ],
      "metadata": {
        "id": "lr5TDinAol5F",
        "cellView": "form"
      },
      "execution_count": null,
      "outputs": []
    },
    {
      "cell_type": "code",
      "source": [
        "# !ls /content/drive/MyDrive/kohya_ss/images/3_zko/\n",
        "# !rm -rf /content/drive/MyDrive/kohya_ss/images/.ipynb_checkpoints\n",
        "# !rm -rf /content/drive/MyDrive/bitsandbytes\n",
        "# !rm -rf /content/drive/MyDrive/kohya_ss/output\n",
        "# !mkdir /content/drive/MyDrive/kohya_ss/output"
      ],
      "metadata": {
        "id": "boHwI7IOKds_"
      },
      "execution_count": null,
      "outputs": []
    },
    {
      "cell_type": "code",
      "source": [
        "# @title Ecxecution kohya GUI\n",
        "%cd /content/drive/MyDrive/kohya_ss/\n",
        "!python kohya_gui.py --share --headless"
      ],
      "metadata": {
        "id": "2qZh6hs7hrlf",
        "colab": {
          "base_uri": "https://localhost:8080/"
        },
        "outputId": "c3fd574f-a9b3-4383-e09f-c004aaceda95"
      },
      "execution_count": null,
      "outputs": [
        {
          "output_type": "stream",
          "name": "stdout",
          "text": [
            "/content/drive/MyDrive/kohya_ss\n",
            "\u001b[2;36m09:32:12-878881\u001b[0m\u001b[2;36m \u001b[0m\u001b[34mINFO    \u001b[0m headless: \u001b[3;92mTrue\u001b[0m                                                             \n",
            "\u001b[2;36m09:32:12-884557\u001b[0m\u001b[2;36m \u001b[0m\u001b[34mINFO    \u001b[0m Load CSS\u001b[33m...\u001b[0m                                                                \n",
            "Running on local URL:  http://127.0.0.1:7860\n",
            "Running on public URL: https://5843963341e4f818db.gradio.live\n",
            "\n",
            "This share link expires in 72 hours. For free permanent hosting and GPU upgrades, run `gradio deploy` from Terminal to deploy to Spaces (https://huggingface.co/spaces)\n",
            "\u001b[2;36m09:34:18-554030\u001b[0m\u001b[2;36m \u001b[0m\u001b[34mINFO    \u001b[0m Start training Dreambooth\u001b[33m...\u001b[0m                                               \n",
            "\u001b[2;36m09:34:18-556798\u001b[0m\u001b[2;36m \u001b[0m\u001b[34mINFO    \u001b[0m Valid image folder names found in: \u001b[35m/content/drive/MyDrive/kohya_ss/\u001b[0m\u001b[95mimages\u001b[0m  \n",
            "\u001b[2;36m09:34:18-558153\u001b[0m\u001b[2;36m \u001b[0m\u001b[34mINFO    \u001b[0m Headless mode, skipping verification if model already exist\u001b[33m...\u001b[0m if model    \n",
            "\u001b[2;36m                \u001b[0m         already exist it will be overwritten\u001b[33m...\u001b[0m                                    \n",
            "\u001b[2;36m09:34:18-560248\u001b[0m\u001b[2;36m \u001b[0m\u001b[34mINFO    \u001b[0m Folder 3_zko : steps \u001b[1;36m9\u001b[0m                                                     \n",
            "\u001b[2;36m09:34:18-561344\u001b[0m\u001b[2;36m \u001b[0m\u001b[34mINFO    \u001b[0m max_train_steps = \u001b[1;36m9\u001b[0m                                                        \n",
            "\u001b[2;36m09:34:18-562793\u001b[0m\u001b[2;36m \u001b[0m\u001b[34mINFO    \u001b[0m stop_text_encoder_training = \u001b[1;36m0\u001b[0m                                             \n",
            "\u001b[2;36m09:34:18-563893\u001b[0m\u001b[2;36m \u001b[0m\u001b[34mINFO    \u001b[0m lr_warmup_steps = \u001b[1;36m1\u001b[0m                                                        \n",
            "\u001b[2;36m09:34:18-568155\u001b[0m\u001b[2;36m \u001b[0m\u001b[34mINFO    \u001b[0m Saving training config to                                                  \n",
            "\u001b[2;36m                \u001b[0m         \u001b[35m/content/drive/MyDrive/kohya_ss/output/2024/04/\u001b[0m\u001b[95m14_zko_20240414-093418.json.\u001b[0m\n",
            "\u001b[2;36m                \u001b[0m         \u001b[95m..\u001b[0m                                                                         \n",
            "Traceback (most recent call last):\n",
            "  File \"/usr/local/lib/python3.10/dist-packages/gradio/routes.py\", line 439, in run_predict\n",
            "    output = await app.get_blocks().process_api(\n",
            "  File \"/usr/local/lib/python3.10/dist-packages/gradio/blocks.py\", line 1384, in process_api\n",
            "    result = await self.call_function(\n",
            "  File \"/usr/local/lib/python3.10/dist-packages/gradio/blocks.py\", line 1089, in call_function\n",
            "    prediction = await anyio.to_thread.run_sync(\n",
            "  File \"/usr/local/lib/python3.10/dist-packages/anyio/to_thread.py\", line 33, in run_sync\n",
            "    return await get_asynclib().run_sync_in_worker_thread(\n",
            "  File \"/usr/local/lib/python3.10/dist-packages/anyio/_backends/_asyncio.py\", line 877, in run_sync_in_worker_thread\n",
            "    return await future\n",
            "  File \"/usr/local/lib/python3.10/dist-packages/anyio/_backends/_asyncio.py\", line 807, in run\n",
            "    result = context.run(func, *args)\n",
            "  File \"/usr/local/lib/python3.10/dist-packages/gradio/utils.py\", line 700, in wrapper\n",
            "    response = f(*args, **kwargs)\n",
            "  File \"/content/drive/MyDrive/kohya_ss/dreambooth_gui.py\", line 632, in train_model\n",
            "    SaveConfigFile(parameters=parameters, file_path=file_path, exclusion=['file_path', 'save_as', 'headless', 'print_only'])\n",
            "  File \"/content/drive/MyDrive/kohya_ss/library/common_gui.py\", line 836, in SaveConfigFile\n",
            "    with open(file_path, 'w') as file:\n",
            "FileNotFoundError: [Errno 2] No such file or directory: '/content/drive/MyDrive/kohya_ss/output/2024/04/14_zko_20240414-093418.json'\n",
            "\u001b[2;36m09:34:36-021811\u001b[0m\u001b[2;36m \u001b[0m\u001b[34mINFO    \u001b[0m Start training Dreambooth\u001b[33m...\u001b[0m                                               \n",
            "\u001b[2;36m09:34:36-024523\u001b[0m\u001b[2;36m \u001b[0m\u001b[34mINFO    \u001b[0m Valid image folder names found in: \u001b[35m/content/drive/MyDrive/kohya_ss/\u001b[0m\u001b[95mimages\u001b[0m  \n",
            "\u001b[2;36m09:34:36-025804\u001b[0m\u001b[2;36m \u001b[0m\u001b[34mINFO    \u001b[0m Headless mode, skipping verification if model already exist\u001b[33m...\u001b[0m if model    \n",
            "\u001b[2;36m                \u001b[0m         already exist it will be overwritten\u001b[33m...\u001b[0m                                    \n",
            "\u001b[2;36m09:34:36-027825\u001b[0m\u001b[2;36m \u001b[0m\u001b[34mINFO    \u001b[0m Folder 3_zko : steps \u001b[1;36m9\u001b[0m                                                     \n",
            "\u001b[2;36m09:34:36-029328\u001b[0m\u001b[2;36m \u001b[0m\u001b[34mINFO    \u001b[0m max_train_steps = \u001b[1;36m9\u001b[0m                                                        \n",
            "\u001b[2;36m09:34:36-030414\u001b[0m\u001b[2;36m \u001b[0m\u001b[34mINFO    \u001b[0m stop_text_encoder_training = \u001b[1;36m0\u001b[0m                                             \n",
            "\u001b[2;36m09:34:36-031471\u001b[0m\u001b[2;36m \u001b[0m\u001b[34mINFO    \u001b[0m lr_warmup_steps = \u001b[1;36m1\u001b[0m                                                        \n",
            "\u001b[2;36m09:34:36-032882\u001b[0m\u001b[2;36m \u001b[0m\u001b[34mINFO    \u001b[0m Saving training config to                                                  \n",
            "\u001b[2;36m                \u001b[0m         \u001b[35m/content/drive/MyDrive/kohya_ss/output/\u001b[0m\u001b[95m20240414_zko_20240414-093436.json...\u001b[0m\n",
            "\u001b[2;36m09:34:36-039241\u001b[0m\u001b[2;36m \u001b[0m\u001b[34mINFO    \u001b[0m accelerate launch --\u001b[33mnum_cpu_threads_per_process\u001b[0m=\u001b[1;36m2\u001b[0m \u001b[32m\"train_db.py\"\u001b[0m            \n",
            "\u001b[2;36m                \u001b[0m         --enable_bucket                                                            \n",
            "\u001b[2;36m                \u001b[0m         --\u001b[33mpretrained_model_name_or_path\u001b[0m=\u001b[32m\"/content/drive/MyDrive/kohya_ss/models/lor\u001b[0m\n",
            "\u001b[2;36m                \u001b[0m         \u001b[32ma/anyLoRA_checkpoint.safetensors\"\u001b[0m                                          \n",
            "\u001b[2;36m                \u001b[0m         --\u001b[33mtrain_data_dir\u001b[0m=\u001b[32m\"/content/drive/MyDrive/kohya_ss/images\"\u001b[0m                  \n",
            "\u001b[2;36m                \u001b[0m         --\u001b[33mresolution\u001b[0m=\u001b[32m\"512\u001b[0m\u001b[32m,512\"\u001b[0m                                                     \n",
            "\u001b[2;36m                \u001b[0m         --\u001b[33moutput_dir\u001b[0m=\u001b[32m\"/content/drive/MyDrive/kohya_ss/output\"\u001b[0m                      \n",
            "\u001b[2;36m                \u001b[0m         --\u001b[33msave_model_as\u001b[0m=\u001b[35msafetensors\u001b[0m --\u001b[33moutput_name\u001b[0m=\u001b[32m\"20240414_zko\"\u001b[0m                   \n",
            "\u001b[2;36m                \u001b[0m         --\u001b[33mmax_data_loader_n_workers\u001b[0m=\u001b[32m\"0\"\u001b[0m --\u001b[33mlearning_rate\u001b[0m=\u001b[32m\"1e\u001b[0m\u001b[32m-05\"\u001b[0m                    \n",
            "\u001b[2;36m                \u001b[0m         --\u001b[33mlr_scheduler\u001b[0m=\u001b[32m\"cosine\"\u001b[0m --\u001b[33mlr_warmup_steps\u001b[0m=\u001b[32m\"1\"\u001b[0m --\u001b[33mtrain_batch_size\u001b[0m=\u001b[32m\"1\"\u001b[0m       \n",
            "\u001b[2;36m                \u001b[0m         --\u001b[33mmax_train_steps\u001b[0m=\u001b[32m\"9\"\u001b[0m --\u001b[33msave_every_n_epochs\u001b[0m=\u001b[32m\"1\"\u001b[0m --\u001b[33mmixed_precision\u001b[0m=\u001b[32m\"fp16\"\u001b[0m   \n",
            "\u001b[2;36m                \u001b[0m         --\u001b[33msave_precision\u001b[0m=\u001b[32m\"fp16\"\u001b[0m --cache_latents --\u001b[33moptimizer_type\u001b[0m=\u001b[32m\"AdamW8bit\"\u001b[0m       \n",
            "\u001b[2;36m                \u001b[0m         --\u001b[33mmax_data_loader_n_workers\u001b[0m=\u001b[32m\"0\"\u001b[0m --\u001b[33mbucket_reso_steps\u001b[0m=\u001b[1;36m64\u001b[0m --xformers          \n",
            "\u001b[2;36m                \u001b[0m         --bucket_no_upscale                                                        \n",
            "The following values were not passed to `accelerate launch` and had defaults used instead:\n",
            "\t`--num_processes` was set to a value of `1`\n",
            "\t`--num_machines` was set to a value of `1`\n",
            "\t`--mixed_precision` was set to a value of `'no'`\n",
            "\t`--dynamo_backend` was set to a value of `'no'`\n",
            "To avoid this warning pass in values for each of the problematic parameters or run `accelerate config`.\n",
            "2024-04-14 09:34:43.663376: E external/local_xla/xla/stream_executor/cuda/cuda_dnn.cc:9261] Unable to register cuDNN factory: Attempting to register factory for plugin cuDNN when one has already been registered\n",
            "2024-04-14 09:34:43.663421: E external/local_xla/xla/stream_executor/cuda/cuda_fft.cc:607] Unable to register cuFFT factory: Attempting to register factory for plugin cuFFT when one has already been registered\n",
            "2024-04-14 09:34:43.665196: E external/local_xla/xla/stream_executor/cuda/cuda_blas.cc:1515] Unable to register cuBLAS factory: Attempting to register factory for plugin cuBLAS when one has already been registered\n",
            "2024-04-14 09:34:44.778101: W tensorflow/compiler/tf2tensorrt/utils/py_utils.cc:38] TF-TRT Warning: Could not find TensorRT\n",
            "prepare tokenizer\n",
            "vocab.json: 100% 961k/961k [00:00<00:00, 1.95MB/s]\n",
            "merges.txt: 100% 525k/525k [00:00<00:00, 710kB/s]\n",
            "special_tokens_map.json: 100% 389/389 [00:00<00:00, 2.40MB/s]\n",
            "tokenizer_config.json: 100% 905/905 [00:00<00:00, 5.53MB/s]\n",
            "prepare images.\n",
            "found directory /content/drive/MyDrive/kohya_ss/images/3_zko contains 3 image files\n",
            "No caption file found for 3 images. Training will continue without captions for these images. If class token exists, it will be used. / 3枚の画像にキャプションファイルが見つかりませんでした。これらの画像についてはキャプションなしで学習を続行します。class tokenが存在する場合はそれを使います。\n",
            "/content/drive/MyDrive/kohya_ss/images/3_zko/image1.png\n",
            "/content/drive/MyDrive/kohya_ss/images/3_zko/image2.png\n",
            "/content/drive/MyDrive/kohya_ss/images/3_zko/image3.png\n",
            "9 train images with repeating.\n",
            "0 reg images.\n",
            "no regularization images / 正則化画像が見つかりませんでした\n",
            "[Dataset 0]\n",
            "  batch_size: 1\n",
            "  resolution: (512, 512)\n",
            "  enable_bucket: True\n",
            "  min_bucket_reso: 256\n",
            "  max_bucket_reso: 1024\n",
            "  bucket_reso_steps: 64\n",
            "  bucket_no_upscale: True\n",
            "\n",
            "  [Subset 0 of Dataset 0]\n",
            "    image_dir: \"/content/drive/MyDrive/kohya_ss/images/3_zko\"\n",
            "    image_count: 3\n",
            "    num_repeats: 3\n",
            "    shuffle_caption: False\n",
            "    keep_tokens: 0\n",
            "    caption_dropout_rate: 0.0\n",
            "    caption_dropout_every_n_epoches: 0\n",
            "    caption_tag_dropout_rate: 0.0\n",
            "    color_aug: False\n",
            "    flip_aug: False\n",
            "    face_crop_aug_range: None\n",
            "    random_crop: False\n",
            "    token_warmup_min: 1,\n",
            "    token_warmup_step: 0,\n",
            "    is_reg: False\n",
            "    class_tokens: zko\n",
            "    caption_extension: .caption\n",
            "\n",
            "\n",
            "[Dataset 0]\n",
            "loading image sizes.\n",
            "100% 3/3 [00:00<00:00, 288.20it/s]\n",
            "make buckets\n",
            "min_bucket_reso and max_bucket_reso are ignored if bucket_no_upscale is set, because bucket reso is defined by image size automatically / bucket_no_upscaleが指定された場合は、bucketの解像度は画像サイズから自動計算されるため、min_bucket_resoとmax_bucket_resoは無視されます\n",
            "number of images (including repeats) / 各bucketの画像枚数（繰り返し回数を含む）\n",
            "bucket 0: resolution (320, 640), count: 3\n",
            "bucket 1: resolution (384, 640), count: 3\n",
            "bucket 2: resolution (448, 512), count: 3\n",
            "mean ar error (without repeats): 0.04121093750000001\n",
            "prepare accelerator\n",
            "loading model for process 0/1\n",
            "load StableDiffusion checkpoint: /content/drive/MyDrive/kohya_ss/models/lora/anyLoRA_checkpoint.safetensors\n",
            "UNet2DConditionModel: 64, 8, 768, False, False\n",
            "loading u-net: <All keys matched successfully>\n",
            "loading vae: <All keys matched successfully>\n",
            "loading text encoder: <All keys matched successfully>\n",
            "Enable xformers for U-Net\n",
            "[Dataset 0]\n",
            "caching latents.\n",
            "checking cache validity...\n",
            "100% 3/3 [00:00<00:00, 77672.30it/s]\n",
            "100% 3/3 [00:03<00:00,  1.25s/it]\n",
            "prepare optimizer, data loader etc.\n",
            "use 8-bit AdamW optimizer | {}\n",
            "running training / 学習開始\n",
            "  num train images * repeats / 学習画像の数×繰り返し回数: 9\n",
            "  num reg images / 正則化画像の数: 0\n",
            "  num batches per epoch / 1epochのバッチ数: 9\n",
            "  num epochs / epoch数: 1\n",
            "  batch size per device / バッチサイズ: 1\n",
            "  total train batch size (with parallel & distributed & accumulation) / 総バッチサイズ（並列学習、勾配合計含む）: 1\n",
            "  gradient ccumulation steps / 勾配を合計するステップ数 = 1\n",
            "  total optimization steps / 学習ステップ数: 9\n",
            "steps:   0% 0/9 [00:00<?, ?it/s]\n",
            "epoch 1/1\n",
            "/usr/local/lib/python3.10/dist-packages/xformers/ops/fmha/flash.py:339: UserWarning: TypedStorage is deprecated. It will be removed in the future and UntypedStorage will be the only storage class. This should only matter to you if you are using storages directly.  To access UntypedStorage directly, use tensor.untyped_storage() instead of tensor.storage()\n",
            "  and inp.query.storage().data_ptr() == inp.key.storage().data_ptr()\n",
            "steps: 100% 9/9 [00:03<00:00,  2.45it/s, loss=0.0949]save trained model as StableDiffusion checkpoint to /content/drive/MyDrive/kohya_ss/output/20240414_zko.safetensors\n",
            "model saved.\n",
            "steps: 100% 9/9 [00:12<00:00,  1.38s/it, loss=0.0949]\n",
            "Keyboard interruption in main thread... closing server.\n",
            "^C\n"
          ]
        }
      ]
    },
    {
      "cell_type": "code",
      "execution_count": null,
      "metadata": {
        "id": "NrgcDwZxgDOe",
        "cellView": "form"
      },
      "outputs": [],
      "source": [
        "#@title Train with Kohya's Stable Diffusion Trainers\n",
        "%cd /content\n",
        "\n",
        "from google.colab import drive\n",
        "drive.mount('/content/drive')\n",
        "\n",
        "!pip install dadaptation==3.1 diffusers[torch]==0.17.1 easygui==0.98.3 einops==0.6.0 fairscale==0.4.13 ftfy==6.1.1 gradio==3.36.1 huggingface-hub==0.14.1\n",
        "!pip install lion-pytorch==0.0.6 lycoris_lora==1.8.0.dev6 open-clip-torch==2.20.0 prodigyopt==1.0 pytorch-lightning==1.9.0 safetensors==0.3.1 timm==0.6.12\n",
        "!pip install tk==0.1.0 transformers==4.30.2 voluptuous==0.13.1 wandb==0.15.0 xformers==0.0.20 omegaconf\n",
        "\n",
        "%cd /content/drive/MyDrive/kohya_ss\n",
        "!git clone -b 0.41.0 https://github.com/TimDettmers/bitsandbytes\n",
        "%cd /content/drive/MyDrive/kohya_ss/bitsandbytes\n",
        "!CUDA_VERSION=118 make cuda11x\n",
        "!python setup.py install\n",
        "\n",
        "%cd /content/drive/MyDrive/kohya_ss\n",
        "!git clone -b v1.0 https://github.com/camenduru/kohya_ss\n",
        "%cd /content/drive/MyDrive/kohya_ss/kohya_ss\n",
        "\n",
        "!python kohya_gui.py --share --headless"
      ]
    },
    {
      "cell_type": "code",
      "execution_count": null,
      "metadata": {
        "id": "KL9RO2im987b",
        "cellView": "form"
      },
      "outputs": [],
      "source": [
        "#@title Convert Safetensors to Diffusers\n",
        "from_safetensors_url = '' #@param {type:\"string\"}\n",
        "!wget -q https://raw.githubusercontent.com/huggingface/diffusers/v0.17.1/scripts/convert_original_stable_diffusion_to_diffusers.py\n",
        "!wget {from_safetensors_url} -O /content/model.safetensors\n",
        "!python3 convert_original_stable_diffusion_to_diffusers.py --half --from_safetensors --checkpoint_path model.safetensors --dump_path /content/model"
      ]
    },
    {
      "cell_type": "code",
      "execution_count": null,
      "metadata": {
        "cellView": "form",
        "id": "zUqHuEou987b"
      },
      "outputs": [],
      "source": [
        "#@title Push to HF.co\n",
        "\n",
        "import os\n",
        "from huggingface_hub import create_repo, upload_folder\n",
        "\n",
        "hf_token = 'HF_WRITE_TOKEN' #@param {type:\"string\"}\n",
        "repo_id = 'username/reponame' #@param {type:\"string\"}\n",
        "commit_message = '\\u2764' #@param {type:\"string\"}\n",
        "create_repo(repo_id, private=True, token=hf_token)\n",
        "model_path = '/content/train/model' #@param {type:\"string\"}\n",
        "upload_folder(folder_path=f'{model_path}', path_in_repo='', repo_id=repo_id, commit_message=commit_message, token=hf_token)"
      ]
    },
    {
      "cell_type": "code",
      "execution_count": null,
      "metadata": {
        "id": "kAM4Djmw987b",
        "cellView": "form"
      },
      "outputs": [],
      "source": [
        "#@title Push to DagsHub.com\n",
        "\n",
        "!pip -q install dagshub\n",
        "from dagshub.upload import Repo, create_repo\n",
        "\n",
        "repo_id = 'reponame' #@param {type:\"string\"}\n",
        "org_name = 'orgname' #@param {type:\"string\"}\n",
        "commit_message = '\\u2764' #@param {type:\"string\"}\n",
        "create_repo(f\"{repo_id}\", org_name=f\"{org_name}\")\n",
        "repo = Repo(f\"{org_name}\", f\"{repo_id}\")\n",
        "model_path = '/content/train/model' #@param {type:\"string\"}\n",
        "repo.upload(\"/content/models\", remote_path=\"data\", commit_message=f\"{commit_message}\", force=True)"
      ]
    }
  ],
  "metadata": {
    "accelerator": "GPU",
    "colab": {
      "gpuType": "A100",
      "provenance": [],
      "machine_shape": "hm",
      "include_colab_link": true
    },
    "kernelspec": {
      "display_name": "Python 3",
      "name": "python3"
    },
    "language_info": {
      "name": "python"
    }
  },
  "nbformat": 4,
  "nbformat_minor": 0
}