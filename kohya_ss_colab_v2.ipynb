{
  "cells": [
    {
      "cell_type": "markdown",
      "metadata": {
        "id": "view-in-github",
        "colab_type": "text"
      },
      "source": [
        "<a href=\"https://colab.research.google.com/github/msy7822-ux/kohya-ss-colab/blob/main/kohya_ss_colab_v2.ipynb\" target=\"_parent\"><img src=\"https://colab.research.google.com/assets/colab-badge.svg\" alt=\"Open In Colab\"/></a>"
      ]
    },
    {
      "cell_type": "code",
      "source": [
        "# @title Drive Connection\n",
        "%cd /content\n",
        "\n",
        "from google.colab import drive\n",
        "drive.mount('/content/drive')"
      ],
      "metadata": {
        "id": "aRz6hC93hl2L",
        "colab": {
          "base_uri": "https://localhost:8080/"
        },
        "outputId": "cbd23b60-8f05-4e02-fe43-36e81369826c"
      },
      "execution_count": null,
      "outputs": [
        {
          "output_type": "stream",
          "name": "stdout",
          "text": [
            "/content\n",
            "Mounted at /content/drive\n"
          ]
        }
      ]
    },
    {
      "cell_type": "code",
      "source": [
        "# @title Install Dependencies\n",
        "!pip install dadaptation==3.1 diffusers[torch]==0.17.1 easygui==0.98.3 einops==0.6.0 fairscale==0.4.13 ftfy==6.1.1 gradio==3.36.1 huggingface-hub==0.14.1\n",
        "!pip install lion-pytorch==0.0.6 lycoris_lora==1.8.0.dev6 open-clip-torch==2.20.0 prodigyopt==1.0 pytorch-lightning==1.9.0 safetensors==0.3.1 timm==0.6.12\n",
        "!pip install tk==0.1.0 transformers==4.30.2 voluptuous==0.13.1 wandb==0.15.0 xformers==0.0.20 omegaconf\n",
        "!pip install torch==2.0.1 torchvision\n",
        "\n",
        "!pip install --upgrade jax jaxlib\n",
        "!pip install --upgrade diffusers\n",
        "\n",
        "!pip install bitsandbytes\n",
        "\n"
      ],
      "metadata": {
        "id": "NCowdlSvhnQr"
      },
      "execution_count": null,
      "outputs": []
    },
    {
      "cell_type": "code",
      "source": [
        "!python -m bitsandbytes"
      ],
      "metadata": {
        "id": "LISetHE95aB9"
      },
      "execution_count": null,
      "outputs": []
    },
    {
      "cell_type": "code",
      "source": [
        "# @title GitHub Repository Clone\n",
        "%cd /content/drive/MyDrive/\n",
        "!git clone -b 0.41.0 https://github.com/TimDettmers/bitsandbytes\n",
        "%cd /content/drive/MyDrive/bitsandbytes\n",
        "!git pull origin main\n",
        "# !python setup.py install\n",
        "!pip install -r requirements-dev.txt\n",
        "!cmake -DCOMPUTE_BACKEND=cuda -S .\n",
        "# !make\n",
        "!CUDA_VERSION=118 make cuda11x\n",
        "!pip install .\n",
        "\n",
        "\n",
        "\n",
        "# %cd /content/drive/MyDrive/\n",
        "# !git clone -b v1.0 https://github.com/camenduru/kohya_ss\n",
        "# %cd /content/drive/MyDrive/kohya_ss\n",
        "# !git pull origin master\n",
        "# !pip install -r requirements.txt"
      ],
      "metadata": {
        "id": "M3ZKP_r5hq5g",
        "cellView": "form"
      },
      "execution_count": null,
      "outputs": []
    },
    {
      "cell_type": "code",
      "source": [
        "# @title Model Downloads\n",
        "%cd /content/drive/MyDrive/kohya_ss/\n",
        "\n",
        "## get civitai token\n",
        "import os\n",
        "from google.colab import userdata\n",
        "os.environ['CIVITAI_TOKEN'] = userdata.get('CIVITAI_TOKEN')\n",
        "\n",
        "token = os.environ['CIVITAI_TOKEN']\n",
        "\n",
        "any_lora_chpt_url = f'https://civitai.com/api/download/models/95489?type=Model&format=SafeTensor&size=full&fp=fp16&token={token}'\n",
        "!wget -c $any_lora_chpt_url -O ./models/lora/anyLoRA_checkpoint.safetensors"
      ],
      "metadata": {
        "id": "lr5TDinAol5F"
      },
      "execution_count": null,
      "outputs": []
    },
    {
      "cell_type": "code",
      "source": [
        "# !ls /content/drive/MyDrive/kohya_ss/images/3_zko/\n",
        "# !rm -rf /content/drive/MyDrive/kohya_ss/images/.ipynb_checkpoints\n",
        "# !rm -rf /content/drive/MyDrive/bitsandbytes\n",
        "# !rm -rf /content/drive/MyDrive/kohya_ss/output\n",
        "# !mkdir /content/drive/MyDrive/kohya_ss/output"
      ],
      "metadata": {
        "id": "boHwI7IOKds_"
      },
      "execution_count": null,
      "outputs": []
    },
    {
      "cell_type": "code",
      "source": [
        "# @title Ecxecution kohya GUI\n",
        "%cd /content/drive/MyDrive/kohya_ss/\n",
        "!python kohya_gui.py --share --headless"
      ],
      "metadata": {
        "id": "2qZh6hs7hrlf"
      },
      "execution_count": null,
      "outputs": []
    },
    {
      "cell_type": "code",
      "execution_count": null,
      "metadata": {
        "id": "NrgcDwZxgDOe",
        "cellView": "form"
      },
      "outputs": [],
      "source": [
        "#@title Train with Kohya's Stable Diffusion Trainers\n",
        "%cd /content\n",
        "\n",
        "from google.colab import drive\n",
        "drive.mount('/content/drive')\n",
        "\n",
        "!pip install dadaptation==3.1 diffusers[torch]==0.17.1 easygui==0.98.3 einops==0.6.0 fairscale==0.4.13 ftfy==6.1.1 gradio==3.36.1 huggingface-hub==0.14.1\n",
        "!pip install lion-pytorch==0.0.6 lycoris_lora==1.8.0.dev6 open-clip-torch==2.20.0 prodigyopt==1.0 pytorch-lightning==1.9.0 safetensors==0.3.1 timm==0.6.12\n",
        "!pip install tk==0.1.0 transformers==4.30.2 voluptuous==0.13.1 wandb==0.15.0 xformers==0.0.20 omegaconf\n",
        "\n",
        "%cd /content/drive/MyDrive/kohya_ss\n",
        "!git clone -b 0.41.0 https://github.com/TimDettmers/bitsandbytes\n",
        "%cd /content/drive/MyDrive/kohya_ss/bitsandbytes\n",
        "!CUDA_VERSION=118 make cuda11x\n",
        "!python setup.py install\n",
        "\n",
        "%cd /content/drive/MyDrive/kohya_ss\n",
        "!git clone -b v1.0 https://github.com/camenduru/kohya_ss\n",
        "%cd /content/drive/MyDrive/kohya_ss/kohya_ss\n",
        "\n",
        "!python kohya_gui.py --share --headless"
      ]
    },
    {
      "cell_type": "code",
      "execution_count": null,
      "metadata": {
        "id": "KL9RO2im987b",
        "cellView": "form"
      },
      "outputs": [],
      "source": [
        "#@title Convert Safetensors to Diffusers\n",
        "from_safetensors_url = '' #@param {type:\"string\"}\n",
        "!wget -q https://raw.githubusercontent.com/huggingface/diffusers/v0.17.1/scripts/convert_original_stable_diffusion_to_diffusers.py\n",
        "!wget {from_safetensors_url} -O /content/model.safetensors\n",
        "!python3 convert_original_stable_diffusion_to_diffusers.py --half --from_safetensors --checkpoint_path model.safetensors --dump_path /content/model"
      ]
    },
    {
      "cell_type": "code",
      "execution_count": null,
      "metadata": {
        "cellView": "form",
        "id": "zUqHuEou987b"
      },
      "outputs": [],
      "source": [
        "#@title Push to HF.co\n",
        "\n",
        "import os\n",
        "from huggingface_hub import create_repo, upload_folder\n",
        "\n",
        "hf_token = 'HF_WRITE_TOKEN' #@param {type:\"string\"}\n",
        "repo_id = 'username/reponame' #@param {type:\"string\"}\n",
        "commit_message = '\\u2764' #@param {type:\"string\"}\n",
        "create_repo(repo_id, private=True, token=hf_token)\n",
        "model_path = '/content/train/model' #@param {type:\"string\"}\n",
        "upload_folder(folder_path=f'{model_path}', path_in_repo='', repo_id=repo_id, commit_message=commit_message, token=hf_token)"
      ]
    },
    {
      "cell_type": "code",
      "execution_count": null,
      "metadata": {
        "id": "kAM4Djmw987b",
        "cellView": "form"
      },
      "outputs": [],
      "source": [
        "#@title Push to DagsHub.com\n",
        "\n",
        "!pip -q install dagshub\n",
        "from dagshub.upload import Repo, create_repo\n",
        "\n",
        "repo_id = 'reponame' #@param {type:\"string\"}\n",
        "org_name = 'orgname' #@param {type:\"string\"}\n",
        "commit_message = '\\u2764' #@param {type:\"string\"}\n",
        "create_repo(f\"{repo_id}\", org_name=f\"{org_name}\")\n",
        "repo = Repo(f\"{org_name}\", f\"{repo_id}\")\n",
        "model_path = '/content/train/model' #@param {type:\"string\"}\n",
        "repo.upload(\"/content/models\", remote_path=\"data\", commit_message=f\"{commit_message}\", force=True)"
      ]
    }
  ],
  "metadata": {
    "accelerator": "GPU",
    "colab": {
      "gpuType": "A100",
      "provenance": [],
      "machine_shape": "hm",
      "include_colab_link": true
    },
    "kernelspec": {
      "display_name": "Python 3",
      "name": "python3"
    },
    "language_info": {
      "name": "python"
    }
  },
  "nbformat": 4,
  "nbformat_minor": 0
}